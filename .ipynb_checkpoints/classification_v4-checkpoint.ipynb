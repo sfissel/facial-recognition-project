{
 "cells": [
  {
   "cell_type": "markdown",
   "id": "4ca03484",
   "metadata": {},
   "source": [
    "# Facial Recognition Classification"
   ]
  },
  {
   "cell_type": "code",
   "execution_count": 7,
   "id": "8c85d1dd",
   "metadata": {},
   "outputs": [],
   "source": [
    "import matplotlib\n",
    "import matplotlib.pyplot as plt"
   ]
  },
  {
   "cell_type": "code",
   "execution_count": 8,
   "id": "53903a47",
   "metadata": {},
   "outputs": [],
   "source": [
    "import os\n",
    "import shutil\n",
    "from bing_image_downloader.bing_image_downloader import downloader\n",
    "\n",
    "\n",
    "directory_list = [\n",
    "    './web_dataset/train/',\n",
    "    './web_dataset/test/',\n",
    "]\n",
    "\n",
    "# create an initial directory\n",
    "for directory in directory_list:\n",
    "    if not os.path.isdir(directory):\n",
    "        os.makedirs(directory)\n",
    "\n",
    "# function\n",
    "def dataset_split(query, train_cnt):\n",
    "    # create a directory\n",
    "    for directory in directory_list:\n",
    "        if not os.path.isdir(directory + '/' + query):\n",
    "            os.makedirs(directory + '/' + query)\n",
    "    # preparing\n",
    "    cnt = 0\n",
    "    for file_name in os.listdir(query):\n",
    "        if cnt < train_cnt:\n",
    "            print(f'[Train Dataset] {file_name}')\n",
    "            shutil.move(query + '/' + file_name, './web_dataset/train/' + query + '/' + file_name)\n",
    "        else:\n",
    "            print(f'[Test Dataset] {file_name}')\n",
    "            shutil.move(query + '/' + file_name, './web_dataset/test/' + query + '/' + file_name)\n",
    "        cnt += 1\n",
    "    shutil.rmtree(query)"
   ]
  },
  {
   "cell_type": "code",
   "execution_count": 9,
   "id": "301c5728",
   "metadata": {
    "scrolled": false
   },
   "outputs": [
    {
     "ename": "FileNotFoundError",
     "evalue": "[Errno 2] No such file or directory: 'hugh_jackman'",
     "output_type": "error",
     "traceback": [
      "\u001b[0;31m---------------------------------------------------------------------------\u001b[0m",
      "\u001b[0;31mFileNotFoundError\u001b[0m                         Traceback (most recent call last)",
      "Input \u001b[0;32mIn [9]\u001b[0m, in \u001b[0;36m<module>\u001b[0;34m\u001b[0m\n\u001b[1;32m      2\u001b[0m query \u001b[38;5;241m=\u001b[39m \u001b[38;5;124m'\u001b[39m\u001b[38;5;124mhugh_jackman\u001b[39m\u001b[38;5;124m'\u001b[39m\n\u001b[1;32m      3\u001b[0m \u001b[38;5;66;03m#downloader.download(query, limit=200,  output_dir='./', adult_filter_off=True, force_replace=False, timeout=60)\u001b[39;00m\n\u001b[0;32m----> 4\u001b[0m \u001b[43mdataset_split\u001b[49m\u001b[43m(\u001b[49m\u001b[43mquery\u001b[49m\u001b[43m,\u001b[49m\u001b[43m \u001b[49m\u001b[38;5;241;43m87\u001b[39;49m\u001b[43m)\u001b[49m\n",
      "Input \u001b[0;32mIn [8]\u001b[0m, in \u001b[0;36mdataset_split\u001b[0;34m(query, train_cnt)\u001b[0m\n\u001b[1;32m     17\u001b[0m \u001b[38;5;28;01mdef\u001b[39;00m \u001b[38;5;21mdataset_split\u001b[39m(query, train_cnt):\n\u001b[1;32m     18\u001b[0m     \u001b[38;5;66;03m# create a directory\u001b[39;00m\n\u001b[1;32m     19\u001b[0m     \u001b[38;5;66;03m#for directory in directory_list:\u001b[39;00m\n\u001b[1;32m     20\u001b[0m     \u001b[38;5;66;03m#    if not os.path.isdir(directory + '/' + query):\u001b[39;00m\n\u001b[1;32m     21\u001b[0m     \u001b[38;5;66;03m#        os.makedirs(directory + '/' + query)\u001b[39;00m\n\u001b[1;32m     22\u001b[0m     \u001b[38;5;66;03m# preparing\u001b[39;00m\n\u001b[1;32m     23\u001b[0m     cnt \u001b[38;5;241m=\u001b[39m \u001b[38;5;241m0\u001b[39m\n\u001b[0;32m---> 24\u001b[0m     \u001b[38;5;28;01mfor\u001b[39;00m file_name \u001b[38;5;129;01min\u001b[39;00m \u001b[43mos\u001b[49m\u001b[38;5;241;43m.\u001b[39;49m\u001b[43mlistdir\u001b[49m\u001b[43m(\u001b[49m\u001b[43mquery\u001b[49m\u001b[43m)\u001b[49m:\n\u001b[1;32m     25\u001b[0m         \u001b[38;5;28;01mif\u001b[39;00m cnt \u001b[38;5;241m<\u001b[39m train_cnt:\n\u001b[1;32m     26\u001b[0m             \u001b[38;5;28mprint\u001b[39m(\u001b[38;5;124mf\u001b[39m\u001b[38;5;124m'\u001b[39m\u001b[38;5;124m[Train Dataset] \u001b[39m\u001b[38;5;132;01m{\u001b[39;00mfile_name\u001b[38;5;132;01m}\u001b[39;00m\u001b[38;5;124m'\u001b[39m)\n",
      "\u001b[0;31mFileNotFoundError\u001b[0m: [Errno 2] No such file or directory: 'hugh_jackman'"
     ]
    }
   ],
   "source": [
    "# data for Hugh Jackman\n",
    "query = 'Hugh Jackman'\n",
    "#downloader.download(query, limit=200,  output_dir='./', adult_filter_off=True, force_replace=False, timeout=60)\n",
    "dataset_split(query, 87)"
   ]
  },
  {
   "cell_type": "code",
   "execution_count": null,
   "id": "c4d94741",
   "metadata": {},
   "outputs": [],
   "source": [
    "# data for Ryan Reynolds\n",
    "query = 'Ryan Reynolds'\n",
    "#downloader.download(query, limit=200,  output_dir='./', adult_filter_off=True, force_replace=False, timeout=60)\n",
    "dataset_split(query, 112)"
   ]
  },
  {
   "cell_type": "code",
   "execution_count": null,
   "id": "d07e7a43",
   "metadata": {},
   "outputs": [],
   "source": [
    "# data for Jake Gyllenhaal\n",
    "query = 'Jake Gyllenhaal'\n",
    "#downloader.download(query, limit=200,  output_dir='./', adult_filter_off=True, force_replace=False, timeout=60)\n",
    "dataset_split(query, 170)"
   ]
  },
  {
   "cell_type": "code",
   "execution_count": null,
   "id": "05b3ff9e",
   "metadata": {},
   "outputs": [],
   "source": [
    "import torch\n",
    "import torch.nn as nn\n",
    "import torch.optim as optim\n",
    "\n",
    "import torchvision\n",
    "from torchvision import datasets, models, transforms\n",
    "\n",
    "import numpy as np\n",
    "import time\n",
    "\n",
    "\n",
    "device = torch.device(\"cuda:0\" if torch.cuda.is_available() else \"cpu\") # device"
   ]
  },
  {
   "cell_type": "code",
   "execution_count": null,
   "id": "60299665",
   "metadata": {},
   "outputs": [],
   "source": [
    "# define transforms_train dataset\n",
    "transforms_train = transforms.Compose([\n",
    "    transforms.Resize((224, 224)),\n",
    "    transforms.RandomHorizontalFlip(), # augmentation\n",
    "    transforms.ToTensor(),\n",
    "    transforms.Normalize([0.485, 0.456, 0.406], [0.229, 0.224, 0.225]) # normalization\n",
    "])\n",
    "\n",
    "transforms_test = transforms.Compose([\n",
    "    transforms.Resize((224, 224)),\n",
    "    transforms.ToTensor(),\n",
    "    transforms.Normalize([0.485, 0.456, 0.406], [0.229, 0.224, 0.225])\n",
    "])\n",
    "\n",
    "data_dir = './web_dataset'\n",
    "train_datasets = datasets.ImageFolder(os.path.join(data_dir, 'train'), transforms_train)\n",
    "test_datasets = datasets.ImageFolder(os.path.join(data_dir, 'test'), transforms_test)\n",
    "\n",
    "train_dataloader = torch.utils.data.DataLoader(train_datasets, batch_size=4, shuffle=True, num_workers=4)\n",
    "test_dataloader = torch.utils.data.DataLoader(test_datasets, batch_size=4, shuffle=True, num_workers=4)\n",
    "\n",
    "print('size of training dataset:', len(train_datasets))\n",
    "print('size of testing dataset:', len(test_datasets))\n",
    "\n",
    "class_names = train_datasets.classes\n",
    "print('class:', class_names)"
   ]
  },
  {
   "cell_type": "code",
   "execution_count": null,
   "id": "0ddf25ec",
   "metadata": {},
   "outputs": [],
   "source": [
    "def imshow(input, title):\n",
    "    # convert torch.Tensor to numpy\n",
    "    input = input.numpy().transpose((1, 2, 0))\n",
    "    \n",
    "    mean = np.array([0.485, 0.456, 0.406])\n",
    "    std = np.array([0.229, 0.224, 0.225])\n",
    "    input = std * input + mean\n",
    "    input = np.clip(input, 0, 1)\n",
    "    # print image\n",
    "    plt.imshow(input)\n",
    "    plt.title(title)\n",
    "    plt.show()\n",
    "\n",
    "\n",
    "# call training data in batches\n",
    "iterator = iter(train_dataloader)\n",
    "\n",
    "# visualize the batches\n",
    "inputs, classes = next(iterator)\n",
    "out = torchvision.utils.make_grid(inputs)\n",
    "imshow(out, title=[class_names[x] for x in classes])"
   ]
  },
  {
   "cell_type": "code",
   "execution_count": null,
   "id": "6e17a21b",
   "metadata": {},
   "outputs": [],
   "source": [
    "model = models.resnet34(pretrained=True)\n",
    "num_features = model.fc.in_features\n",
    "# transfer learning\n",
    "model.fc = nn.Linear(num_features, 3)\n",
    "model = model.to(device)\n",
    "\n",
    "criterion = nn.CrossEntropyLoss()\n",
    "optimizer = optim.SGD(model.parameters(), lr=0.001, momentum=0.9)"
   ]
  },
  {
   "cell_type": "code",
   "execution_count": null,
   "id": "a1a91014",
   "metadata": {},
   "outputs": [],
   "source": [
    "num_epochs = 15\n",
    "model.train()\n",
    "start_time = time.time()\n",
    "\n",
    "# iterates\n",
    "for epoch in range(num_epochs):\n",
    "    running_loss = 0.\n",
    "    running_corrects = 0\n",
    "\n",
    "    # call training data in batches\n",
    "    for inputs, labels in train_dataloader:\n",
    "        inputs = inputs.to(device)\n",
    "        labels = labels.to(device)\n",
    "\n",
    "        optimizer.zero_grad()\n",
    "        outputs = model(inputs)\n",
    "        _, preds = torch.max(outputs, 1)\n",
    "        loss = criterion(outputs, labels)\n",
    "\n",
    "        loss.backward()\n",
    "        optimizer.step()\n",
    "\n",
    "        running_loss += loss.item() * inputs.size(0)\n",
    "        running_corrects += torch.sum(preds == labels.data)\n",
    "\n",
    "    epoch_loss = running_loss / len(train_datasets)\n",
    "    epoch_acc = running_corrects / len(train_datasets) * 100.\n",
    "\n",
    "    # print the result while training\n",
    "    print('#{} Loss: {:.4f} Acc: {:.4f}% Time: {:.4f}s'.format(epoch, epoch_loss, epoch_acc, time.time() - start_time))"
   ]
  },
  {
   "cell_type": "code",
   "execution_count": null,
   "id": "40af637a",
   "metadata": {},
   "outputs": [],
   "source": [
    "# evaluate the model\n",
    "model.eval()\n",
    "start_time = time.time()\n",
    "\n",
    "with torch.no_grad():\n",
    "    running_loss = 0.\n",
    "    running_corrects = 0\n",
    "\n",
    "    for inputs, labels in test_dataloader:\n",
    "        inputs = inputs.to(device)\n",
    "        labels = labels.to(device)\n",
    "\n",
    "        outputs = model(inputs)\n",
    "        _, preds = torch.max(outputs, 1)\n",
    "        loss = criterion(outputs, labels)\n",
    "\n",
    "        running_loss += loss.item() * inputs.size(0)\n",
    "        running_corrects += torch.sum(preds == labels.data)\n",
    "\n",
    "        # visualize\n",
    "        print(f'[Prediction: {class_names[preds[0]]}] (Actual subject: {class_names[labels.data[0]]})')\n",
    "        imshow(inputs.cpu().data[0], title='Prediction: ' + class_names[preds[0]])\n",
    "\n",
    "    epoch_loss = running_loss / len(test_datasets)\n",
    "    epoch_acc = running_corrects / len(test_datasets) * 100.\n",
    "    print('[Test Phase] Loss: {:.4f} Acc: {:.4f}% Time: {:.4f}s'.format(epoch_loss, epoch_acc, time.time() - start_time))"
   ]
  },
  {
   "cell_type": "code",
   "execution_count": null,
   "id": "0b0a03c7",
   "metadata": {},
   "outputs": [],
   "source": []
  }
 ],
 "metadata": {
  "kernelspec": {
   "display_name": "Python 3 (ipykernel)",
   "language": "python",
   "name": "python3"
  },
  "language_info": {
   "codemirror_mode": {
    "name": "ipython",
    "version": 3
   },
   "file_extension": ".py",
   "mimetype": "text/x-python",
   "name": "python",
   "nbconvert_exporter": "python",
   "pygments_lexer": "ipython3",
   "version": "3.10.7"
  },
  "vscode": {
   "interpreter": {
    "hash": "1a1af0ee75eeea9e2e1ee996c87e7a2b11a0bebd85af04bb136d915cefc0abce"
   }
  }
 },
 "nbformat": 4,
 "nbformat_minor": 5
}
